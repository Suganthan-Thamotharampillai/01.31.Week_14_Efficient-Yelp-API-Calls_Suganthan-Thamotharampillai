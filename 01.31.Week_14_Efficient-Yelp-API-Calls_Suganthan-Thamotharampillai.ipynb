{
 "cells": [
  {
   "cell_type": "markdown",
   "id": "46b77523",
   "metadata": {},
   "source": [
    "<br><font size=6><b>Efficient <font color=#383838><img style=\"display: inline;margin-top:0px;padding-top:50px;margin-left:-12px;\" src=\"Data/yelp-logo.png\" width=\"14%\"/>API</font></b></font><font size=6> Calls</font>\n",
    "\n"
   ]
  },
  {
   "cell_type": "markdown",
   "id": "a73b807f",
   "metadata": {},
   "source": [
    "<font size=3><ul><li>Suganthan Thamotharampillai\n",
    "<br><li>01.31.2023\n",
    "<div style=\"border-style:solid;border-color:red;border-width:10px;border-width:0px;border-top-width:7px;\">"
   ]
  },
  {
   "cell_type": "code",
   "execution_count": null,
   "id": "6c795751",
   "metadata": {},
   "outputs": [],
   "source": [
    "z"
   ]
  },
  {
   "cell_type": "code",
   "execution_count": null,
   "id": "1f99cd58",
   "metadata": {},
   "outputs": [],
   "source": []
  },
  {
   "cell_type": "code",
   "execution_count": null,
   "id": "90ef05ef",
   "metadata": {},
   "outputs": [],
   "source": []
  },
  {
   "cell_type": "code",
   "execution_count": null,
   "id": "2e1fb858",
   "metadata": {},
   "outputs": [],
   "source": []
  },
  {
   "cell_type": "code",
   "execution_count": null,
   "id": "0361b29b",
   "metadata": {},
   "outputs": [],
   "source": []
  }
 ],
 "metadata": {
  "kernelspec": {
   "display_name": "Python (dojo-env)",
   "language": "python",
   "name": "dojo-env"
  },
  "language_info": {
   "codemirror_mode": {
    "name": "ipython",
    "version": 3
   },
   "file_extension": ".py",
   "mimetype": "text/x-python",
   "name": "python",
   "nbconvert_exporter": "python",
   "pygments_lexer": "ipython3",
   "version": "3.9.15"
  },
  "toc": {
   "base_numbering": 1,
   "nav_menu": {},
   "number_sections": false,
   "sideBar": true,
   "skip_h1_title": false,
   "title_cell": "Table of Contents",
   "title_sidebar": "Contents",
   "toc_cell": false,
   "toc_position": {},
   "toc_section_display": true,
   "toc_window_display": false
  }
 },
 "nbformat": 4,
 "nbformat_minor": 5
}
