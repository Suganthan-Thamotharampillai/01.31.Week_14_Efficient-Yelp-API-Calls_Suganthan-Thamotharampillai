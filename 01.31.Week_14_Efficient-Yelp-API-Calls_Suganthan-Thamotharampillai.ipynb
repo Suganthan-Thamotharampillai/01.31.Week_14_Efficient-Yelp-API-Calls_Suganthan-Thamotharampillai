{
 "cells": [
  {
   "cell_type": "markdown",
   "id": "f91c5130",
   "metadata": {},
   "source": [
    "<br><img src=\"Data/2.png\" oncontextmenu=\"return false\" style=\"margin-left:-5px;pointer-events:none;-webkit-touch-callout:none;-webkit-user-select:none;-ms-user-select:none;user-select:none;\" />"
   ]
  },
  {
   "cell_type": "markdown",
   "id": "a73b807f",
   "metadata": {},
   "source": [
    "<font size=3><ul><li>Suganthan Thamotharampillai\n",
    "<br><li>01.31.2023\n",
    "<div style=\"border-style:solid;border-color:red;border-width:10px;border-width:0px;border-top-width:7px;\">"
   ]
  },
  {
   "cell_type": "markdown",
   "id": "0df70d14",
   "metadata": {},
   "source": [
    "<br><b><font style=\"font-size:20px;\">Imports</font>"
   ]
  },
  {
   "cell_type": "code",
   "execution_count": 1,
   "id": "87dc7d16",
   "metadata": {},
   "outputs": [],
   "source": [
    "# Libraries\n",
    "import pandas as pd\n",
    "import numpy as np\n",
    "import matplotlib.pyplot as plt\n",
    "import seaborn as sns\n",
    "import os, json, math, time\n",
    "from yelpapi import YelpAPI\n",
    "pd.options.display.max_colwidth=12"
   ]
  },
  {
   "cell_type": "markdown",
   "id": "35a3602c",
   "metadata": {},
   "source": [
    "<br><b><font style=\"font-size:20px;\">API Credentials and Yelp Object</font>"
   ]
  },
  {
   "cell_type": "code",
   "execution_count": 2,
   "id": "a5249bdd",
   "metadata": {},
   "outputs": [
    {
     "data": {
      "text/plain": [
       "dict_keys(['client-id', 'api-key'])"
      ]
     },
     "execution_count": 2,
     "metadata": {},
     "output_type": "execute_result"
    }
   ],
   "source": [
    "# API Credentials\n",
    "with open('/Users/sugan/.secret/yelp_api.json') as f:\n",
    "    login = json.load(f)\n",
    "login.keys()"
   ]
  },
  {
   "cell_type": "code",
   "execution_count": 3,
   "id": "49eb2db9",
   "metadata": {},
   "outputs": [
    {
     "data": {
      "text/plain": [
       "<yelpapi.yelpapi.YelpAPI at 0x179aace9c40>"
      ]
     },
     "execution_count": 3,
     "metadata": {},
     "output_type": "execute_result"
    }
   ],
   "source": [
    "# YelpAPI Object\n",
    "yelp_api = YelpAPI(login['api-key'], timeout_s=5.0)\n",
    "yelp_api"
   ]
  },
  {
   "cell_type": "markdown",
   "id": "bbb74e60",
   "metadata": {},
   "source": [
    "<br><b><font style=\"font-size:20px;\">Define Search Terms and File Paths</font>"
   ]
  },
  {
   "cell_type": "code",
   "execution_count": 4,
   "id": "0720df63",
   "metadata": {},
   "outputs": [
    {
     "name": "stdout",
     "output_type": "stream",
     "text": [
      "Indian Cuisine Buffalo\n"
     ]
    }
   ],
   "source": [
    "# Setting API Parameters\n",
    "LOCATION = 'Buffalo'\n",
    "TERM = 'Indian Cuisine'\n",
    "print(TERM, LOCATION)"
   ]
  },
  {
   "cell_type": "code",
   "execution_count": 5,
   "id": "cc114082",
   "metadata": {},
   "outputs": [
    {
     "data": {
      "text/plain": [
       "'Data/ApiResults/results_in_progress_IndianCuisineBuffalo.json'"
      ]
     },
     "execution_count": 5,
     "metadata": {},
     "output_type": "execute_result"
    }
   ],
   "source": [
    "# Specifying JSON_FILE Name&Path\n",
    "JSON_FILE = f\"Data/ApiResults/results_in_progress_{(TERM+LOCATION).replace(',','').replace(' ','')}.json\"\n",
    "JSON_FILE"
   ]
  },
  {
   "cell_type": "markdown",
   "id": "28b84bc5",
   "metadata": {},
   "source": [
    "<br><b><font style=\"font-size:20px;\">Creating JSON File</font>"
   ]
  },
  {
   "cell_type": "code",
   "execution_count": 6,
   "id": "1a995da9",
   "metadata": {},
   "outputs": [
    {
     "name": "stdout",
     "output_type": "stream",
     "text": [
      "Data/ApiResults/results_in_progress_IndianCuisineBuffalo.json not found. Saving empty list to file.\n",
      "Data/ApiResults/results_in_progress_IndianCuisineBuffalo.json created.\n"
     ]
    }
   ],
   "source": [
    "## JSON_FILE Extant State\n",
    "file_exists = os.path.isfile(JSON_FILE)\n",
    "\n",
    "## If Non-Extant:\n",
    "if file_exists == False:\n",
    "    \n",
    "    ## Create Needed Folder\n",
    "    folder = os.path.dirname(JSON_FILE)\n",
    "    ## If JSON_FILE included a folder:\n",
    "    if len(folder) > 0:\n",
    "        # Create the folder\n",
    "        os.makedirs(folder,exist_ok=True)\n",
    "        \n",
    "    # Inform User\n",
    "    print(f'{JSON_FILE} not found. Saving empty list to file.')\n",
    "    \n",
    "    with open(JSON_FILE,'w') as f:\n",
    "        json.dump([],f)\n",
    "    if os.path.isfile(JSON_FILE) == True:\n",
    "        print(f'{JSON_FILE} created.')\n",
    "        \n",
    "# If Extant:\n",
    "else:\n",
    "    print(f\"{JSON_FILE} already exists.\")"
   ]
  },
  {
   "cell_type": "markdown",
   "id": "ae2b5130",
   "metadata": {},
   "source": [
    "<br><b><font style=\"font-size:20px;\">Prerequisite</font>"
   ]
  },
  {
   "cell_type": "markdown",
   "id": "f9e580ee",
   "metadata": {},
   "source": [
    "<b>1. Determine how many results are already in the file"
   ]
  },
  {
   "cell_type": "code",
   "execution_count": 7,
   "id": "4dbef770",
   "metadata": {},
   "outputs": [
    {
     "name": "stdout",
     "output_type": "stream",
     "text": [
      "There are 0 previous results found.\n"
     ]
    }
   ],
   "source": [
    "# Load previous results and find length for offset\n",
    "with open(JSON_FILE,'r') as f:\n",
    "    previous_results = json.load(f)\n",
    "    \n",
    "# Offset\n",
    "n_results = len(previous_results)\n",
    "print(f'There are {n_results} previous results found.')"
   ]
  },
  {
   "cell_type": "markdown",
   "id": "fbefe774",
   "metadata": {},
   "source": [
    "<b>2. Figure out how many pages of results we will need"
   ]
  },
  {
   "cell_type": "code",
   "execution_count": 8,
   "id": "76c674e0",
   "metadata": {},
   "outputs": [
    {
     "data": {
      "text/plain": [
       "dict_keys(['businesses', 'total', 'region'])"
      ]
     },
     "execution_count": 8,
     "metadata": {},
     "output_type": "execute_result"
    }
   ],
   "source": [
    "# Yelp_api's search_query Method\n",
    "results = yelp_api.search_query(location=LOCATION,\n",
    "                                term=TERM,\n",
    "                               offset=n_results)\n",
    "results.keys()"
   ]
  },
  {
   "cell_type": "code",
   "execution_count": 9,
   "id": "718985e5",
   "metadata": {},
   "outputs": [
    {
     "name": "stdout",
     "output_type": "stream",
     "text": [
      "There are 63 matches for Indian Cuisine in Buffalo City\n"
     ]
    }
   ],
   "source": [
    "# How many results found?\n",
    "total_results = results['total']\n",
    "print(f\"There are {total_results} matches for Indian Cuisine in Buffalo City\")"
   ]
  },
  {
   "cell_type": "code",
   "execution_count": 10,
   "id": "8951b5b2",
   "metadata": {},
   "outputs": [
    {
     "name": "stdout",
     "output_type": "stream",
     "text": [
      "There are 20 results per page\n"
     ]
    }
   ],
   "source": [
    "# How many did we get the details for?\n",
    "results_per_page = len(results['businesses'])\n",
    "print(f\"There are {results_per_page} results per page\")"
   ]
  },
  {
   "cell_type": "code",
   "execution_count": 11,
   "id": "09188fd7",
   "metadata": {},
   "outputs": [
    {
     "name": "stdout",
     "output_type": "stream",
     "text": [
      "Calculating results over results per page, we get a total number of 4 pages\n"
     ]
    }
   ],
   "source": [
    "\n",
    "# Use math.ceil to round up for the total number of pages of results.\n",
    "n_pages = math.ceil((results['total']-n_results)/ results_per_page) #ceil seals the integer rounding it upward\n",
    "print(f\"Calculating results over results per page, we get a total number of {n_pages} pages\")"
   ]
  },
  {
   "cell_type": "markdown",
   "id": "0c10d27f",
   "metadata": {},
   "source": [
    "<b>3. Set up a Progress Bar to monitor Api Call"
   ]
  },
  {
   "cell_type": "code",
   "execution_count": 12,
   "id": "f6c9de90",
   "metadata": {},
   "outputs": [
    {
     "data": {
      "text/plain": [
       "tqdm.notebook.tqdm_notebook"
      ]
     },
     "execution_count": 12,
     "metadata": {},
     "output_type": "execute_result"
    }
   ],
   "source": [
    "from tqdm.notebook import tqdm_notebook as tqdm\n",
    "tqdm"
   ]
  },
  {
   "cell_type": "markdown",
   "id": "ca57c6f2",
   "metadata": {},
   "source": [
    "<br><b><font style=\"font-size:20px;\">API Call</font>"
   ]
  },
  {
   "cell_type": "code",
   "execution_count": 13,
   "id": "1a903f72",
   "metadata": {},
   "outputs": [
    {
     "data": {
      "application/vnd.jupyter.widget-view+json": {
       "model_id": "e76e21b3f9284af19d365141141f78c5",
       "version_major": 2,
       "version_minor": 0
      },
      "text/plain": [
       "  0%|          | 0/4 [00:00<?, ?it/s]"
      ]
     },
     "metadata": {},
     "output_type": "display_data"
    }
   ],
   "source": [
    "## The API Call\n",
    "## Loop\n",
    "for i in tqdm(range(1,n_pages+1), colour='red'):\n",
    "    \n",
    "    # Read in 'results-in-progress' file for length\n",
    "    with open(JSON_FILE, 'r') as f:\n",
    "        previous_results = json.load(f)\n",
    "        \n",
    "    # Number of results for Offset\n",
    "    n_results = len(previous_results)\n",
    "        \n",
    "    # Safeguard for Exceeding 1000 YelpApi Calls\n",
    "    if (n_results + results_per_page) > 1000:\n",
    "        print('Exceeded 1000 Api calls. Loop Stopped.')\n",
    "        break\n",
    "    \n",
    "    # Use n_results as OFFSET \n",
    "    results = yelp_api.search_query(location=LOCATION,\n",
    "                                    term=TERM, \n",
    "                                    offset=n_results+1)\n",
    "    \n",
    "    # Append new results to file\n",
    "    previous_results.extend(results['businesses'])\n",
    "    \n",
    "    # Dump to JSON\n",
    "    with open(JSON_FILE,'w') as f:\n",
    "        json.dump(previous_results,f)\n",
    "    \n",
    "    # Add a 200ms pause\n",
    "    time.sleep(.2)"
   ]
  },
  {
   "cell_type": "markdown",
   "id": "7e3b273b",
   "metadata": {},
   "source": [
    "<br><b><font style=\"font-size:20px;\">Convert .json to PANDAS dataframe</font>"
   ]
  },
  {
   "cell_type": "code",
   "execution_count": 16,
   "id": "2ca5f596",
   "metadata": {
    "scrolled": true
   },
   "outputs": [],
   "source": [
    "## Convert final results as PANDAS Dataframe\n",
    "df = pd.read_json(JSON_FILE)"
   ]
  },
  {
   "cell_type": "markdown",
   "id": "a951a20b",
   "metadata": {},
   "source": [
    "<b>1. Check for duplicates"
   ]
  },
  {
   "cell_type": "code",
   "execution_count": 17,
   "id": "17f59e6a",
   "metadata": {},
   "outputs": [
    {
     "data": {
      "text/plain": [
       "0"
      ]
     },
     "execution_count": 17,
     "metadata": {},
     "output_type": "execute_result"
    }
   ],
   "source": [
    "## Check and Drop duplicate ids and confirm\n",
    "df = df.drop_duplicates(subset='id')\n",
    "df.duplicated(subset='id').sum()"
   ]
  },
  {
   "cell_type": "markdown",
   "id": "58789584",
   "metadata": {},
   "source": [
    "<b>2. Display"
   ]
  },
  {
   "cell_type": "code",
   "execution_count": 18,
   "id": "1a119a94",
   "metadata": {},
   "outputs": [
    {
     "data": {
      "text/html": [
       "<div>\n",
       "<style scoped>\n",
       "    .dataframe tbody tr th:only-of-type {\n",
       "        vertical-align: middle;\n",
       "    }\n",
       "\n",
       "    .dataframe tbody tr th {\n",
       "        vertical-align: top;\n",
       "    }\n",
       "\n",
       "    .dataframe thead th {\n",
       "        text-align: right;\n",
       "    }\n",
       "</style>\n",
       "<table border=\"1\" class=\"dataframe\">\n",
       "  <thead>\n",
       "    <tr style=\"text-align: right;\">\n",
       "      <th></th>\n",
       "      <th>id</th>\n",
       "      <th>alias</th>\n",
       "      <th>name</th>\n",
       "      <th>image_url</th>\n",
       "      <th>is_closed</th>\n",
       "      <th>url</th>\n",
       "      <th>review_count</th>\n",
       "      <th>categories</th>\n",
       "      <th>rating</th>\n",
       "      <th>coordinates</th>\n",
       "      <th>transactions</th>\n",
       "      <th>price</th>\n",
       "      <th>location</th>\n",
       "      <th>phone</th>\n",
       "      <th>display_phone</th>\n",
       "      <th>distance</th>\n",
       "    </tr>\n",
       "  </thead>\n",
       "  <tbody>\n",
       "    <tr>\n",
       "      <th>0</th>\n",
       "      <td>RtTKpizy...</td>\n",
       "      <td>spices-o...</td>\n",
       "      <td>Spices o...</td>\n",
       "      <td>https://...</td>\n",
       "      <td>False</td>\n",
       "      <td>https://...</td>\n",
       "      <td>245</td>\n",
       "      <td>[{'alias...</td>\n",
       "      <td>4.5</td>\n",
       "      <td>{'latitu...</td>\n",
       "      <td>[deliver...</td>\n",
       "      <td>$$</td>\n",
       "      <td>{'addres...</td>\n",
       "      <td>+1716633...</td>\n",
       "      <td>(716) 63...</td>\n",
       "      <td>8061.156056</td>\n",
       "    </tr>\n",
       "    <tr>\n",
       "      <th>1</th>\n",
       "      <td>2Ibo1K9G...</td>\n",
       "      <td>clay-han...</td>\n",
       "      <td>Clay Handi</td>\n",
       "      <td>https://...</td>\n",
       "      <td>False</td>\n",
       "      <td>https://...</td>\n",
       "      <td>238</td>\n",
       "      <td>[{'alias...</td>\n",
       "      <td>4.0</td>\n",
       "      <td>{'latitu...</td>\n",
       "      <td>[deliver...</td>\n",
       "      <td>$$</td>\n",
       "      <td>{'addres...</td>\n",
       "      <td>+1716877...</td>\n",
       "      <td>(716) 87...</td>\n",
       "      <td>6486.388698</td>\n",
       "    </tr>\n",
       "    <tr>\n",
       "      <th>2</th>\n",
       "      <td>PmALs1uA...</td>\n",
       "      <td>nellai-b...</td>\n",
       "      <td>Nellai B...</td>\n",
       "      <td>https://...</td>\n",
       "      <td>False</td>\n",
       "      <td>https://...</td>\n",
       "      <td>129</td>\n",
       "      <td>[{'alias...</td>\n",
       "      <td>4.0</td>\n",
       "      <td>{'latitu...</td>\n",
       "      <td>[deliver...</td>\n",
       "      <td>$$</td>\n",
       "      <td>{'addres...</td>\n",
       "      <td>+1716276...</td>\n",
       "      <td>(716) 27...</td>\n",
       "      <td>10461.94...</td>\n",
       "    </tr>\n",
       "    <tr>\n",
       "      <th>3</th>\n",
       "      <td>LkTReC8T...</td>\n",
       "      <td>taj-gril...</td>\n",
       "      <td>Taj Grill</td>\n",
       "      <td>https://...</td>\n",
       "      <td>False</td>\n",
       "      <td>https://...</td>\n",
       "      <td>348</td>\n",
       "      <td>[{'alias...</td>\n",
       "      <td>4.0</td>\n",
       "      <td>{'latitu...</td>\n",
       "      <td>[deliver...</td>\n",
       "      <td>$$</td>\n",
       "      <td>{'addres...</td>\n",
       "      <td>+1716875...</td>\n",
       "      <td>(716) 87...</td>\n",
       "      <td>5009.389486</td>\n",
       "    </tr>\n",
       "    <tr>\n",
       "      <th>4</th>\n",
       "      <td>5s_kMLz3...</td>\n",
       "      <td>zaika-in...</td>\n",
       "      <td>Zaika In...</td>\n",
       "      <td>https://...</td>\n",
       "      <td>False</td>\n",
       "      <td>https://...</td>\n",
       "      <td>722</td>\n",
       "      <td>[{'alias...</td>\n",
       "      <td>4.0</td>\n",
       "      <td>{'latitu...</td>\n",
       "      <td>[deliver...</td>\n",
       "      <td>$$</td>\n",
       "      <td>{'addres...</td>\n",
       "      <td>+1716804...</td>\n",
       "      <td>(716) 80...</td>\n",
       "      <td>26906.41...</td>\n",
       "    </tr>\n",
       "    <tr>\n",
       "      <th>47</th>\n",
       "      <td>JGsTIMzr...</td>\n",
       "      <td>mela-ind...</td>\n",
       "      <td>Mela Ind...</td>\n",
       "      <td></td>\n",
       "      <td>False</td>\n",
       "      <td>https://...</td>\n",
       "      <td>4</td>\n",
       "      <td>[{'alias...</td>\n",
       "      <td>1.5</td>\n",
       "      <td>{'latitu...</td>\n",
       "      <td>[]</td>\n",
       "      <td>NaN</td>\n",
       "      <td>{'addres...</td>\n",
       "      <td></td>\n",
       "      <td></td>\n",
       "      <td>26744.85...</td>\n",
       "    </tr>\n",
       "    <tr>\n",
       "      <th>48</th>\n",
       "      <td>8b32gWkV...</td>\n",
       "      <td>a-1-dosa...</td>\n",
       "      <td>A-1 Dosa...</td>\n",
       "      <td></td>\n",
       "      <td>False</td>\n",
       "      <td>https://...</td>\n",
       "      <td>14</td>\n",
       "      <td>[{'alias...</td>\n",
       "      <td>1.5</td>\n",
       "      <td>{'latitu...</td>\n",
       "      <td>[]</td>\n",
       "      <td>$$</td>\n",
       "      <td>{'addres...</td>\n",
       "      <td></td>\n",
       "      <td></td>\n",
       "      <td>26920.45...</td>\n",
       "    </tr>\n",
       "    <tr>\n",
       "      <th>49</th>\n",
       "      <td>1xnk1X5q...</td>\n",
       "      <td>india-ki...</td>\n",
       "      <td>India Ki...</td>\n",
       "      <td>https://...</td>\n",
       "      <td>False</td>\n",
       "      <td>https://...</td>\n",
       "      <td>24</td>\n",
       "      <td>[{'alias...</td>\n",
       "      <td>1.5</td>\n",
       "      <td>{'latitu...</td>\n",
       "      <td>[]</td>\n",
       "      <td>$$</td>\n",
       "      <td>{'addres...</td>\n",
       "      <td>+1716285...</td>\n",
       "      <td>(716) 28...</td>\n",
       "      <td>27100.09...</td>\n",
       "    </tr>\n",
       "    <tr>\n",
       "      <th>50</th>\n",
       "      <td>YeulOE9R...</td>\n",
       "      <td>fallsvie...</td>\n",
       "      <td>Fallsvie...</td>\n",
       "      <td>https://...</td>\n",
       "      <td>False</td>\n",
       "      <td>https://...</td>\n",
       "      <td>91</td>\n",
       "      <td>[{'alias...</td>\n",
       "      <td>3.0</td>\n",
       "      <td>{'latitu...</td>\n",
       "      <td>[]</td>\n",
       "      <td>$$$</td>\n",
       "      <td>{'addres...</td>\n",
       "      <td>+1905374...</td>\n",
       "      <td>+1 905-3...</td>\n",
       "      <td>27899.24...</td>\n",
       "    </tr>\n",
       "    <tr>\n",
       "      <th>51</th>\n",
       "      <td>HpfFyF_c...</td>\n",
       "      <td>passage-...</td>\n",
       "      <td>Passage ...</td>\n",
       "      <td>https://...</td>\n",
       "      <td>False</td>\n",
       "      <td>https://...</td>\n",
       "      <td>45</td>\n",
       "      <td>[{'alias...</td>\n",
       "      <td>3.5</td>\n",
       "      <td>{'latitu...</td>\n",
       "      <td>[]</td>\n",
       "      <td>$$</td>\n",
       "      <td>{'addres...</td>\n",
       "      <td>+1905371...</td>\n",
       "      <td>+1 905-3...</td>\n",
       "      <td>28311.44...</td>\n",
       "    </tr>\n",
       "  </tbody>\n",
       "</table>\n",
       "</div>"
      ],
      "text/plain": [
       "             id        alias         name    image_url  is_closed  \\\n",
       "0   RtTKpizy...  spices-o...  Spices o...  https://...      False   \n",
       "1   2Ibo1K9G...  clay-han...   Clay Handi  https://...      False   \n",
       "2   PmALs1uA...  nellai-b...  Nellai B...  https://...      False   \n",
       "3   LkTReC8T...  taj-gril...    Taj Grill  https://...      False   \n",
       "4   5s_kMLz3...  zaika-in...  Zaika In...  https://...      False   \n",
       "47  JGsTIMzr...  mela-ind...  Mela Ind...                   False   \n",
       "48  8b32gWkV...  a-1-dosa...  A-1 Dosa...                   False   \n",
       "49  1xnk1X5q...  india-ki...  India Ki...  https://...      False   \n",
       "50  YeulOE9R...  fallsvie...  Fallsvie...  https://...      False   \n",
       "51  HpfFyF_c...  passage-...  Passage ...  https://...      False   \n",
       "\n",
       "            url  review_count   categories  rating  coordinates transactions  \\\n",
       "0   https://...          245   [{'alias...     4.5  {'latitu...  [deliver...   \n",
       "1   https://...          238   [{'alias...     4.0  {'latitu...  [deliver...   \n",
       "2   https://...          129   [{'alias...     4.0  {'latitu...  [deliver...   \n",
       "3   https://...          348   [{'alias...     4.0  {'latitu...  [deliver...   \n",
       "4   https://...          722   [{'alias...     4.0  {'latitu...  [deliver...   \n",
       "47  https://...            4   [{'alias...     1.5  {'latitu...           []   \n",
       "48  https://...           14   [{'alias...     1.5  {'latitu...           []   \n",
       "49  https://...           24   [{'alias...     1.5  {'latitu...           []   \n",
       "50  https://...           91   [{'alias...     3.0  {'latitu...           []   \n",
       "51  https://...           45   [{'alias...     3.5  {'latitu...           []   \n",
       "\n",
       "   price     location        phone display_phone     distance  \n",
       "0     $$  {'addres...  +1716633...  (716) 63...   8061.156056  \n",
       "1     $$  {'addres...  +1716877...  (716) 87...   6486.388698  \n",
       "2     $$  {'addres...  +1716276...  (716) 27...   10461.94...  \n",
       "3     $$  {'addres...  +1716875...  (716) 87...   5009.389486  \n",
       "4     $$  {'addres...  +1716804...  (716) 80...   26906.41...  \n",
       "47   NaN  {'addres...                             26744.85...  \n",
       "48    $$  {'addres...                             26920.45...  \n",
       "49    $$  {'addres...  +1716285...  (716) 28...   27100.09...  \n",
       "50   $$$  {'addres...  +1905374...  +1 905-3...   27899.24...  \n",
       "51    $$  {'addres...  +1905371...  +1 905-3...   28311.44...  "
      ]
     },
     "execution_count": 18,
     "metadata": {},
     "output_type": "execute_result"
    }
   ],
   "source": [
    "# Dataframe\n",
    "pd.concat([df.head(), df.tail()])"
   ]
  },
  {
   "cell_type": "markdown",
   "id": "5392cf72",
   "metadata": {},
   "source": [
    "<br><b><font style=\"font-size:20px;\">API to Dataframe</font>"
   ]
  },
  {
   "cell_type": "code",
   "execution_count": 19,
   "id": "acbaed6a",
   "metadata": {},
   "outputs": [],
   "source": [
    "# Save final results to a compressed csv\n",
    "CSVGZ_FILE = f\"Data/ApiResults/final_results_{(TERM+LOCATION).replace(',','').replace(' ','')}.csv.gz\"\n",
    "df.to_csv(CSVGZ_FILE, compression='gzip', index=False)"
   ]
  },
  {
   "cell_type": "code",
   "execution_count": 20,
   "id": "1f29f35e",
   "metadata": {},
   "outputs": [
    {
     "name": "stdout",
     "output_type": "stream",
     "text": [
      "Dataframe as Data/ApiResults/final_results_IndianCuisineBuffalo.csv.gz file is \n",
      "Successfully Created.\n"
     ]
    }
   ],
   "source": [
    "# Check for Extant\n",
    "if os.path.isfile(CSVGZ_FILE) == True: print(f'Dataframe as {CSVGZ_FILE} file is \\nSuccessfully Created.')"
   ]
  },
  {
   "cell_type": "markdown",
   "id": "143cec9c",
   "metadata": {},
   "source": [
    "<img oncontextmenu=\"return false\" style=\"display:inline;margin-left:-5px;opacity:.07;pointer-events:none;-webkit-touch-callout:none;-webkit-user-select:none;-ms-user-select:none;user-select:none;\" src=\"Data/yelp-logo.png\" width=\"12%\" />"
   ]
  }
 ],
 "metadata": {
  "kernelspec": {
   "display_name": "Python (dojo-env)",
   "language": "python",
   "name": "dojo-env"
  },
  "language_info": {
   "codemirror_mode": {
    "name": "ipython",
    "version": 3
   },
   "file_extension": ".py",
   "mimetype": "text/x-python",
   "name": "python",
   "nbconvert_exporter": "python",
   "pygments_lexer": "ipython3",
   "version": "3.9.15"
  },
  "toc": {
   "base_numbering": 1,
   "nav_menu": {},
   "number_sections": false,
   "sideBar": true,
   "skip_h1_title": false,
   "title_cell": "Table of Contents",
   "title_sidebar": "Contents",
   "toc_cell": false,
   "toc_position": {},
   "toc_section_display": true,
   "toc_window_display": false
  }
 },
 "nbformat": 4,
 "nbformat_minor": 5
}
