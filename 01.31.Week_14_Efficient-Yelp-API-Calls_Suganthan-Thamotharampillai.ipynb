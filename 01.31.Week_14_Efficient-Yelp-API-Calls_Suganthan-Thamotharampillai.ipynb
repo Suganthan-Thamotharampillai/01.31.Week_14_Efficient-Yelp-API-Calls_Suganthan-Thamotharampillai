{
 "cells": [
  {
   "cell_type": "markdown",
   "id": "f19de80a",
   "metadata": {},
   "source": [
    "<br><font size=6><b>Efficient <font color=#383838><img style=\"display: inline;margin-left:-12px;\" src=\"Data/yelp-logo.png\" width=\"14%\"/>API</font></b></font><font size=6> Calls</font>\n",
    "\n"
   ]
  },
  {
   "cell_type": "markdown",
   "id": "6cd70e7d",
   "metadata": {},
   "source": [
    "<font size=3><ul><li>Suganthan Thamotharampillai\n",
    "<br><li>01.31.2023"
   ]
  },
  {
   "cell_type": "markdown",
   "id": "d1193e0e",
   "metadata": {},
   "source": [
    "<div style=\"border-style:solid;border-color:red;border-width:10px;background-image: url(\"https://static.vecteezy.com/system/resources/thumbnails/008/490/121/small/wave-abstract-lines-background-line-art-png.png\");\">\n",
    "asfasfasfsdf<br>\n",
    "a<br>\n",
    "a<br>\n",
    "aa<br>\n",
    "a<br>\n",
    "aa<br>\n",
    "a<br>\n",
    "aa<br>\n",
    "a<br>\n",
    "aa<br>\n",
    "a<br>\n",
    "aa<br>\n",
    "a<br>\n",
    "a\n",
    "</div>"
   ]
  },
  {
   "cell_type": "code",
   "execution_count": null,
   "id": "061841e9",
   "metadata": {},
   "outputs": [],
   "source": [
    "one"
   ]
  },
  {
   "cell_type": "code",
   "execution_count": null,
   "id": "022f5ad1",
   "metadata": {},
   "outputs": [],
   "source": []
  },
  {
   "cell_type": "code",
   "execution_count": null,
   "id": "d105811c",
   "metadata": {},
   "outputs": [],
   "source": []
  },
  {
   "cell_type": "code",
   "execution_count": null,
   "id": "98203d37",
   "metadata": {},
   "outputs": [],
   "source": []
  },
  {
   "cell_type": "code",
   "execution_count": null,
   "id": "61d476e4",
   "metadata": {},
   "outputs": [],
   "source": []
  }
 ],
 "metadata": {
  "kernelspec": {
   "display_name": "Python (dojo-env)",
   "language": "python",
   "name": "dojo-env"
  },
  "language_info": {
   "codemirror_mode": {
    "name": "ipython",
    "version": 3
   },
   "file_extension": ".py",
   "mimetype": "text/x-python",
   "name": "python",
   "nbconvert_exporter": "python",
   "pygments_lexer": "ipython3",
   "version": "3.9.15"
  },
  "toc": {
   "base_numbering": 1,
   "nav_menu": {},
   "number_sections": false,
   "sideBar": true,
   "skip_h1_title": false,
   "title_cell": "Table of Contents",
   "title_sidebar": "Contents",
   "toc_cell": false,
   "toc_position": {},
   "toc_section_display": true,
   "toc_window_display": false
  }
 },
 "nbformat": 4,
 "nbformat_minor": 5
}
