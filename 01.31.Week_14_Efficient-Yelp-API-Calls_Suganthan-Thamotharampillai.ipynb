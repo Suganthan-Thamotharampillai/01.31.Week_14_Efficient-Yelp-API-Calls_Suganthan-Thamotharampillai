{
 "cells": [
  {
   "cell_type": "markdown",
   "id": "aeba3ec3",
   "metadata": {},
   "source": [
    "<br><font size=6><b>Efficient <font color=#383838><div style=\"display:inline;\"><img style=\"display: inline;\" src=\"Data/yelp-logo.png\" width=\"14%\"/></div>API</font></b></font><font size=6> Calls</font>\n",
    "\n"
   ]
  },
  {
   "cell_type": "markdown",
   "id": "8819c02c",
   "metadata": {},
   "source": [
    "<font size=3><ul><li>Suganthan Thamotharampillai\n",
    "<br><li>01.31.2023\n",
    "<div style=\"border-style:solid;border-color:red;border-width:10px;border-width:0px;border-top-width:7px;\">"
   ]
  },
  {
   "cell_type": "code",
   "execution_count": null,
   "id": "ef786dca",
   "metadata": {},
   "outputs": [],
   "source": [
    "x"
   ]
  },
  {
   "cell_type": "code",
   "execution_count": null,
   "id": "a12d608c",
   "metadata": {},
   "outputs": [],
   "source": []
  },
  {
   "cell_type": "code",
   "execution_count": null,
   "id": "4cf606b6",
   "metadata": {},
   "outputs": [],
   "source": []
  },
  {
   "cell_type": "code",
   "execution_count": null,
   "id": "c84e95e8",
   "metadata": {},
   "outputs": [],
   "source": []
  },
  {
   "cell_type": "code",
   "execution_count": null,
   "id": "7f4426c4",
   "metadata": {},
   "outputs": [],
   "source": []
  }
 ],
 "metadata": {
  "kernelspec": {
   "display_name": "Python (dojo-env)",
   "language": "python",
   "name": "dojo-env"
  },
  "language_info": {
   "codemirror_mode": {
    "name": "ipython",
    "version": 3
   },
   "file_extension": ".py",
   "mimetype": "text/x-python",
   "name": "python",
   "nbconvert_exporter": "python",
   "pygments_lexer": "ipython3",
   "version": "3.9.15"
  },
  "toc": {
   "base_numbering": 1,
   "nav_menu": {},
   "number_sections": false,
   "sideBar": true,
   "skip_h1_title": false,
   "title_cell": "Table of Contents",
   "title_sidebar": "Contents",
   "toc_cell": false,
   "toc_position": {},
   "toc_section_display": true,
   "toc_window_display": false
  }
 },
 "nbformat": 4,
 "nbformat_minor": 5
}
