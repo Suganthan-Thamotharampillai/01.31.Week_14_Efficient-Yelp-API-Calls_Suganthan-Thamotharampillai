{
 "cells": [
  {
   "cell_type": "markdown",
   "id": "7c8e07e0",
   "metadata": {
    "id": "7c8e07e0"
   },
   "source": [
    "Using the Yelp API Practice\n",
    "https://login.codingdojo.com/m/376/12529/88073 "
   ]
  },
  {
   "cell_type": "code",
   "execution_count": null,
   "id": "d445cf1f",
   "metadata": {
    "id": "d445cf1f"
   },
   "outputs": [],
   "source": [
    "from yelpapi import YelpAPI\n",
    "import json\n",
    "import pandas as pd"
   ]
  },
  {
   "cell_type": "code",
   "execution_count": null,
   "id": "076cb4c9",
   "metadata": {
    "id": "076cb4c9",
    "outputId": "3d65f104-f96f-4a66-ca6d-0716e49b6b3c"
   },
   "outputs": [
    {
     "data": {
      "text/plain": [
       "dict_keys(['client-id', 'api-key'])"
      ]
     },
     "execution_count": 2,
     "metadata": {},
     "output_type": "execute_result"
    }
   ],
   "source": [
    "# students must use their own username here instead of \"brend\"\n",
    "with open('/Users/brend/.secret/yelp_api.json') as f:\n",
    "    login = json.load(f)\n",
    "login.keys()"
   ]
  },
  {
   "cell_type": "code",
   "execution_count": null,
   "id": "1095d98a",
   "metadata": {
    "id": "1095d98a",
    "outputId": "0e7fa454-d350-4c28-cc2a-c768383bf315"
   },
   "outputs": [
    {
     "data": {
      "text/plain": [
       "<yelpapi.yelpapi.YelpAPI at 0x2144586b688>"
      ]
     },
     "execution_count": 3,
     "metadata": {},
     "output_type": "execute_result"
    }
   ],
   "source": [
    "yelp_api = YelpAPI(login['api-key'], timeout_s=5.0)\n",
    "yelp_api"
   ]
  },
  {
   "cell_type": "markdown",
   "id": "11322af3",
   "metadata": {
    "id": "11322af3"
   },
   "source": [
    "Students can choose any city and food for this task as long as it is more than 20 businesses long to show how pagination works"
   ]
  },
  {
   "cell_type": "code",
   "execution_count": null,
   "id": "45ee32bd",
   "metadata": {
    "id": "45ee32bd",
    "outputId": "2c25f152-69af-44c8-8f3f-d9126a0591aa"
   },
   "outputs": [
    {
     "data": {
      "text/plain": [
       "dict_keys(['businesses', 'total', 'region'])"
      ]
     },
     "execution_count": 7,
     "metadata": {},
     "output_type": "execute_result"
    }
   ],
   "source": [
    "sushi_0 = yelp_api.search_query(location='Greenville, SC',\n",
    "                                       term='Sushi')\n",
    "type(results)\n",
    "results.keys()"
   ]
  },
  {
   "cell_type": "code",
   "execution_count": null,
   "id": "0ff84aff",
   "metadata": {
    "id": "0ff84aff",
    "outputId": "8d4b753d-4392-4d85-ebc6-b8dab073650e"
   },
   "outputs": [
    {
     "data": {
      "text/html": [
       "<div>\n",
       "<style scoped>\n",
       "    .dataframe tbody tr th:only-of-type {\n",
       "        vertical-align: middle;\n",
       "    }\n",
       "\n",
       "    .dataframe tbody tr th {\n",
       "        vertical-align: top;\n",
       "    }\n",
       "\n",
       "    .dataframe thead th {\n",
       "        text-align: right;\n",
       "    }\n",
       "</style>\n",
       "<table border=\"1\" class=\"dataframe\">\n",
       "  <thead>\n",
       "    <tr style=\"text-align: right;\">\n",
       "      <th></th>\n",
       "      <th>id</th>\n",
       "      <th>alias</th>\n",
       "      <th>name</th>\n",
       "      <th>image_url</th>\n",
       "      <th>is_closed</th>\n",
       "      <th>url</th>\n",
       "      <th>review_count</th>\n",
       "      <th>categories</th>\n",
       "      <th>rating</th>\n",
       "      <th>coordinates</th>\n",
       "      <th>transactions</th>\n",
       "      <th>price</th>\n",
       "      <th>location</th>\n",
       "      <th>phone</th>\n",
       "      <th>display_phone</th>\n",
       "      <th>distance</th>\n",
       "    </tr>\n",
       "  </thead>\n",
       "  <tbody>\n",
       "    <tr>\n",
       "      <th>0</th>\n",
       "      <td>zG_XOAFi9Y560WJ1RvghBw</td>\n",
       "      <td>sushi-masa-japanese-restaurant-greenville</td>\n",
       "      <td>Sushi-Masa Japanese Restaurant</td>\n",
       "      <td>https://s3-media1.fl.yelpcdn.com/bphoto/zsRavZ...</td>\n",
       "      <td>False</td>\n",
       "      <td>https://www.yelp.com/biz/sushi-masa-japanese-r...</td>\n",
       "      <td>135</td>\n",
       "      <td>[{'alias': 'sushi', 'title': 'Sushi Bars'}]</td>\n",
       "      <td>4.5</td>\n",
       "      <td>{'latitude': 34.8512725830078, 'longitude': -8...</td>\n",
       "      <td>[delivery]</td>\n",
       "      <td>$$</td>\n",
       "      <td>{'address1': '8590 Pelham Rd', 'address2': 'St...</td>\n",
       "      <td>+18642882227</td>\n",
       "      <td>(864) 288-2227</td>\n",
       "      <td>11481.830881</td>\n",
       "    </tr>\n",
       "    <tr>\n",
       "      <th>1</th>\n",
       "      <td>7cJxOV-ANX1qLThK3yV96w</td>\n",
       "      <td>otto-izakaya-greenville-4</td>\n",
       "      <td>Otto Izakaya</td>\n",
       "      <td>https://s3-media1.fl.yelpcdn.com/bphoto/TdPhFy...</td>\n",
       "      <td>False</td>\n",
       "      <td>https://www.yelp.com/biz/otto-izakaya-greenvil...</td>\n",
       "      <td>375</td>\n",
       "      <td>[{'alias': 'japanese', 'title': 'Japanese'}, {...</td>\n",
       "      <td>4.0</td>\n",
       "      <td>{'latitude': 34.8228218820722, 'longitude': -8...</td>\n",
       "      <td>[delivery]</td>\n",
       "      <td>$$</td>\n",
       "      <td>{'address1': '15 Market Point Dr', 'address2':...</td>\n",
       "      <td>+18645688009</td>\n",
       "      <td>(864) 568-8009</td>\n",
       "      <td>5933.485357</td>\n",
       "    </tr>\n",
       "  </tbody>\n",
       "</table>\n",
       "</div>"
      ],
      "text/plain": [
       "                       id                                      alias  \\\n",
       "0  zG_XOAFi9Y560WJ1RvghBw  sushi-masa-japanese-restaurant-greenville   \n",
       "1  7cJxOV-ANX1qLThK3yV96w                  otto-izakaya-greenville-4   \n",
       "\n",
       "                             name  \\\n",
       "0  Sushi-Masa Japanese Restaurant   \n",
       "1                    Otto Izakaya   \n",
       "\n",
       "                                           image_url  is_closed  \\\n",
       "0  https://s3-media1.fl.yelpcdn.com/bphoto/zsRavZ...      False   \n",
       "1  https://s3-media1.fl.yelpcdn.com/bphoto/TdPhFy...      False   \n",
       "\n",
       "                                                 url  review_count  \\\n",
       "0  https://www.yelp.com/biz/sushi-masa-japanese-r...           135   \n",
       "1  https://www.yelp.com/biz/otto-izakaya-greenvil...           375   \n",
       "\n",
       "                                          categories  rating  \\\n",
       "0        [{'alias': 'sushi', 'title': 'Sushi Bars'}]     4.5   \n",
       "1  [{'alias': 'japanese', 'title': 'Japanese'}, {...     4.0   \n",
       "\n",
       "                                         coordinates transactions price  \\\n",
       "0  {'latitude': 34.8512725830078, 'longitude': -8...   [delivery]    $$   \n",
       "1  {'latitude': 34.8228218820722, 'longitude': -8...   [delivery]    $$   \n",
       "\n",
       "                                            location         phone  \\\n",
       "0  {'address1': '8590 Pelham Rd', 'address2': 'St...  +18642882227   \n",
       "1  {'address1': '15 Market Point Dr', 'address2':...  +18645688009   \n",
       "\n",
       "    display_phone      distance  \n",
       "0  (864) 288-2227  11481.830881  \n",
       "1  (864) 568-8009   5933.485357  "
      ]
     },
     "execution_count": 9,
     "metadata": {},
     "output_type": "execute_result"
    }
   ],
   "source": [
    "sushi0 = pd.DataFrame(sushi_0['businesses'])\n",
    "sushi0.head(2)"
   ]
  },
  {
   "cell_type": "code",
   "execution_count": null,
   "id": "2c0e8b32",
   "metadata": {
    "id": "2c0e8b32",
    "outputId": "62b73eed-375a-4f29-e895-f16a0505718d"
   },
   "outputs": [
    {
     "data": {
      "text/plain": [
       "92"
      ]
     },
     "execution_count": 10,
     "metadata": {},
     "output_type": "execute_result"
    }
   ],
   "source": [
    "sushi_0['total']"
   ]
  },
  {
   "cell_type": "markdown",
   "id": "05880fca",
   "metadata": {
    "id": "05880fca"
   },
   "source": [
    "Students are only asked to do the first two pages. Notice the offset in the code below is set to 20"
   ]
  },
  {
   "cell_type": "code",
   "execution_count": null,
   "id": "e88692b6",
   "metadata": {
    "id": "e88692b6"
   },
   "outputs": [],
   "source": [
    "# 92 will require 5 pages\n",
    "# The assignment only asks for two pages\n",
    "sushi_20 = yelp_api.search_query(location='Greenville, SC',\n",
    "                                       term='sushi',\n",
    "                               offset = 20)"
   ]
  },
  {
   "cell_type": "code",
   "execution_count": null,
   "id": "a8be6620",
   "metadata": {
    "id": "a8be6620",
    "outputId": "bb84e3ee-3a7c-47f5-815e-461c79623ef8"
   },
   "outputs": [
    {
     "data": {
      "text/html": [
       "<div>\n",
       "<style scoped>\n",
       "    .dataframe tbody tr th:only-of-type {\n",
       "        vertical-align: middle;\n",
       "    }\n",
       "\n",
       "    .dataframe tbody tr th {\n",
       "        vertical-align: top;\n",
       "    }\n",
       "\n",
       "    .dataframe thead th {\n",
       "        text-align: right;\n",
       "    }\n",
       "</style>\n",
       "<table border=\"1\" class=\"dataframe\">\n",
       "  <thead>\n",
       "    <tr style=\"text-align: right;\">\n",
       "      <th></th>\n",
       "      <th>id</th>\n",
       "      <th>alias</th>\n",
       "      <th>name</th>\n",
       "      <th>image_url</th>\n",
       "      <th>is_closed</th>\n",
       "      <th>url</th>\n",
       "      <th>review_count</th>\n",
       "      <th>categories</th>\n",
       "      <th>rating</th>\n",
       "      <th>coordinates</th>\n",
       "      <th>transactions</th>\n",
       "      <th>price</th>\n",
       "      <th>location</th>\n",
       "      <th>phone</th>\n",
       "      <th>display_phone</th>\n",
       "      <th>distance</th>\n",
       "    </tr>\n",
       "  </thead>\n",
       "  <tbody>\n",
       "    <tr>\n",
       "      <th>0</th>\n",
       "      <td>0NNl-TjwwDkRl0oAZK4p3A</td>\n",
       "      <td>sushi-asa-greenville</td>\n",
       "      <td>Sushi Asa</td>\n",
       "      <td>https://s3-media2.fl.yelpcdn.com/bphoto/NXZT8A...</td>\n",
       "      <td>False</td>\n",
       "      <td>https://www.yelp.com/biz/sushi-asa-greenville?...</td>\n",
       "      <td>127</td>\n",
       "      <td>[{'alias': 'sushi', 'title': 'Sushi Bars'}]</td>\n",
       "      <td>4.0</td>\n",
       "      <td>{'latitude': 34.8171189, 'longitude': -82.2755...</td>\n",
       "      <td>[delivery]</td>\n",
       "      <td>$$</td>\n",
       "      <td>{'address1': '150 Tanner Rd', 'address2': None...</td>\n",
       "      <td>+18642885259</td>\n",
       "      <td>(864) 288-5259</td>\n",
       "      <td>8392.529884</td>\n",
       "    </tr>\n",
       "    <tr>\n",
       "      <th>1</th>\n",
       "      <td>igFfsWb7_mjPPLTpaqvO8A</td>\n",
       "      <td>sushi-hana-greenville</td>\n",
       "      <td>Sushi Hana</td>\n",
       "      <td>https://s3-media3.fl.yelpcdn.com/bphoto/YWfbHK...</td>\n",
       "      <td>False</td>\n",
       "      <td>https://www.yelp.com/biz/sushi-hana-greenville...</td>\n",
       "      <td>134</td>\n",
       "      <td>[{'alias': 'sushi', 'title': 'Sushi Bars'}, {'...</td>\n",
       "      <td>3.0</td>\n",
       "      <td>{'latitude': 34.85188, 'longitude': -82.33645}</td>\n",
       "      <td>[delivery, pickup]</td>\n",
       "      <td>$$</td>\n",
       "      <td>{'address1': '765 Haywood Rd', 'address2': 'St...</td>\n",
       "      <td>+18646760200</td>\n",
       "      <td>(864) 676-0200</td>\n",
       "      <td>1987.183642</td>\n",
       "    </tr>\n",
       "  </tbody>\n",
       "</table>\n",
       "</div>"
      ],
      "text/plain": [
       "                       id                  alias        name  \\\n",
       "0  0NNl-TjwwDkRl0oAZK4p3A   sushi-asa-greenville   Sushi Asa   \n",
       "1  igFfsWb7_mjPPLTpaqvO8A  sushi-hana-greenville  Sushi Hana   \n",
       "\n",
       "                                           image_url  is_closed  \\\n",
       "0  https://s3-media2.fl.yelpcdn.com/bphoto/NXZT8A...      False   \n",
       "1  https://s3-media3.fl.yelpcdn.com/bphoto/YWfbHK...      False   \n",
       "\n",
       "                                                 url  review_count  \\\n",
       "0  https://www.yelp.com/biz/sushi-asa-greenville?...           127   \n",
       "1  https://www.yelp.com/biz/sushi-hana-greenville...           134   \n",
       "\n",
       "                                          categories  rating  \\\n",
       "0        [{'alias': 'sushi', 'title': 'Sushi Bars'}]     4.0   \n",
       "1  [{'alias': 'sushi', 'title': 'Sushi Bars'}, {'...     3.0   \n",
       "\n",
       "                                         coordinates        transactions  \\\n",
       "0  {'latitude': 34.8171189, 'longitude': -82.2755...          [delivery]   \n",
       "1     {'latitude': 34.85188, 'longitude': -82.33645}  [delivery, pickup]   \n",
       "\n",
       "  price                                           location         phone  \\\n",
       "0    $$  {'address1': '150 Tanner Rd', 'address2': None...  +18642885259   \n",
       "1    $$  {'address1': '765 Haywood Rd', 'address2': 'St...  +18646760200   \n",
       "\n",
       "    display_phone     distance  \n",
       "0  (864) 288-5259  8392.529884  \n",
       "1  (864) 676-0200  1987.183642  "
      ]
     },
     "execution_count": 12,
     "metadata": {},
     "output_type": "execute_result"
    }
   ],
   "source": [
    "sushi20 = pd.DataFrame(sushi_20['businesses'])\n",
    "sushi20.head(2)"
   ]
  },
  {
   "cell_type": "code",
   "execution_count": null,
   "id": "4dfed487",
   "metadata": {
    "id": "4dfed487",
    "outputId": "d3502195-bdd1-4164-a91a-352053b85551"
   },
   "outputs": [
    {
     "data": {
      "text/html": [
       "<div>\n",
       "<style scoped>\n",
       "    .dataframe tbody tr th:only-of-type {\n",
       "        vertical-align: middle;\n",
       "    }\n",
       "\n",
       "    .dataframe tbody tr th {\n",
       "        vertical-align: top;\n",
       "    }\n",
       "\n",
       "    .dataframe thead th {\n",
       "        text-align: right;\n",
       "    }\n",
       "</style>\n",
       "<table border=\"1\" class=\"dataframe\">\n",
       "  <thead>\n",
       "    <tr style=\"text-align: right;\">\n",
       "      <th></th>\n",
       "      <th>id</th>\n",
       "      <th>alias</th>\n",
       "      <th>name</th>\n",
       "      <th>image_url</th>\n",
       "      <th>is_closed</th>\n",
       "      <th>url</th>\n",
       "      <th>review_count</th>\n",
       "      <th>categories</th>\n",
       "      <th>rating</th>\n",
       "      <th>coordinates</th>\n",
       "      <th>transactions</th>\n",
       "      <th>price</th>\n",
       "      <th>location</th>\n",
       "      <th>phone</th>\n",
       "      <th>display_phone</th>\n",
       "      <th>distance</th>\n",
       "    </tr>\n",
       "  </thead>\n",
       "  <tbody>\n",
       "    <tr>\n",
       "      <th>0</th>\n",
       "      <td>zG_XOAFi9Y560WJ1RvghBw</td>\n",
       "      <td>sushi-masa-japanese-restaurant-greenville</td>\n",
       "      <td>Sushi-Masa Japanese Restaurant</td>\n",
       "      <td>https://s3-media1.fl.yelpcdn.com/bphoto/zsRavZ...</td>\n",
       "      <td>False</td>\n",
       "      <td>https://www.yelp.com/biz/sushi-masa-japanese-r...</td>\n",
       "      <td>135</td>\n",
       "      <td>[{'alias': 'sushi', 'title': 'Sushi Bars'}]</td>\n",
       "      <td>4.5</td>\n",
       "      <td>{'latitude': 34.8512725830078, 'longitude': -8...</td>\n",
       "      <td>[delivery]</td>\n",
       "      <td>$$</td>\n",
       "      <td>{'address1': '8590 Pelham Rd', 'address2': 'St...</td>\n",
       "      <td>+18642882227</td>\n",
       "      <td>(864) 288-2227</td>\n",
       "      <td>11481.830881</td>\n",
       "    </tr>\n",
       "    <tr>\n",
       "      <th>1</th>\n",
       "      <td>7cJxOV-ANX1qLThK3yV96w</td>\n",
       "      <td>otto-izakaya-greenville-4</td>\n",
       "      <td>Otto Izakaya</td>\n",
       "      <td>https://s3-media1.fl.yelpcdn.com/bphoto/TdPhFy...</td>\n",
       "      <td>False</td>\n",
       "      <td>https://www.yelp.com/biz/otto-izakaya-greenvil...</td>\n",
       "      <td>375</td>\n",
       "      <td>[{'alias': 'japanese', 'title': 'Japanese'}, {...</td>\n",
       "      <td>4.0</td>\n",
       "      <td>{'latitude': 34.8228218820722, 'longitude': -8...</td>\n",
       "      <td>[delivery]</td>\n",
       "      <td>$$</td>\n",
       "      <td>{'address1': '15 Market Point Dr', 'address2':...</td>\n",
       "      <td>+18645688009</td>\n",
       "      <td>(864) 568-8009</td>\n",
       "      <td>5933.485357</td>\n",
       "    </tr>\n",
       "    <tr>\n",
       "      <th>2</th>\n",
       "      <td>MQ_eKpW9MhMVJfEwO1VgbQ</td>\n",
       "      <td>aoki-sushi-greenville</td>\n",
       "      <td>Aoki Sushi</td>\n",
       "      <td>https://s3-media1.fl.yelpcdn.com/bphoto/_weCfl...</td>\n",
       "      <td>False</td>\n",
       "      <td>https://www.yelp.com/biz/aoki-sushi-greenville...</td>\n",
       "      <td>41</td>\n",
       "      <td>[{'alias': 'sushi', 'title': 'Sushi Bars'}, {'...</td>\n",
       "      <td>4.5</td>\n",
       "      <td>{'latitude': 34.82008, 'longitude': -82.27064}</td>\n",
       "      <td>[delivery, pickup]</td>\n",
       "      <td>NaN</td>\n",
       "      <td>{'address1': '1779 Woodruff Rd', 'address2': '...</td>\n",
       "      <td>+18645689449</td>\n",
       "      <td>(864) 568-9449</td>\n",
       "      <td>8512.138893</td>\n",
       "    </tr>\n",
       "  </tbody>\n",
       "</table>\n",
       "</div>"
      ],
      "text/plain": [
       "                       id                                      alias  \\\n",
       "0  zG_XOAFi9Y560WJ1RvghBw  sushi-masa-japanese-restaurant-greenville   \n",
       "1  7cJxOV-ANX1qLThK3yV96w                  otto-izakaya-greenville-4   \n",
       "2  MQ_eKpW9MhMVJfEwO1VgbQ                      aoki-sushi-greenville   \n",
       "\n",
       "                             name  \\\n",
       "0  Sushi-Masa Japanese Restaurant   \n",
       "1                    Otto Izakaya   \n",
       "2                      Aoki Sushi   \n",
       "\n",
       "                                           image_url  is_closed  \\\n",
       "0  https://s3-media1.fl.yelpcdn.com/bphoto/zsRavZ...      False   \n",
       "1  https://s3-media1.fl.yelpcdn.com/bphoto/TdPhFy...      False   \n",
       "2  https://s3-media1.fl.yelpcdn.com/bphoto/_weCfl...      False   \n",
       "\n",
       "                                                 url  review_count  \\\n",
       "0  https://www.yelp.com/biz/sushi-masa-japanese-r...           135   \n",
       "1  https://www.yelp.com/biz/otto-izakaya-greenvil...           375   \n",
       "2  https://www.yelp.com/biz/aoki-sushi-greenville...            41   \n",
       "\n",
       "                                          categories  rating  \\\n",
       "0        [{'alias': 'sushi', 'title': 'Sushi Bars'}]     4.5   \n",
       "1  [{'alias': 'japanese', 'title': 'Japanese'}, {...     4.0   \n",
       "2  [{'alias': 'sushi', 'title': 'Sushi Bars'}, {'...     4.5   \n",
       "\n",
       "                                         coordinates        transactions  \\\n",
       "0  {'latitude': 34.8512725830078, 'longitude': -8...          [delivery]   \n",
       "1  {'latitude': 34.8228218820722, 'longitude': -8...          [delivery]   \n",
       "2     {'latitude': 34.82008, 'longitude': -82.27064}  [delivery, pickup]   \n",
       "\n",
       "  price                                           location         phone  \\\n",
       "0    $$  {'address1': '8590 Pelham Rd', 'address2': 'St...  +18642882227   \n",
       "1    $$  {'address1': '15 Market Point Dr', 'address2':...  +18645688009   \n",
       "2   NaN  {'address1': '1779 Woodruff Rd', 'address2': '...  +18645689449   \n",
       "\n",
       "    display_phone      distance  \n",
       "0  (864) 288-2227  11481.830881  \n",
       "1  (864) 568-8009   5933.485357  \n",
       "2  (864) 568-9449   8512.138893  "
      ]
     },
     "metadata": {},
     "output_type": "display_data"
    },
    {
     "data": {
      "text/html": [
       "<div>\n",
       "<style scoped>\n",
       "    .dataframe tbody tr th:only-of-type {\n",
       "        vertical-align: middle;\n",
       "    }\n",
       "\n",
       "    .dataframe tbody tr th {\n",
       "        vertical-align: top;\n",
       "    }\n",
       "\n",
       "    .dataframe thead th {\n",
       "        text-align: right;\n",
       "    }\n",
       "</style>\n",
       "<table border=\"1\" class=\"dataframe\">\n",
       "  <thead>\n",
       "    <tr style=\"text-align: right;\">\n",
       "      <th></th>\n",
       "      <th>id</th>\n",
       "      <th>alias</th>\n",
       "      <th>name</th>\n",
       "      <th>image_url</th>\n",
       "      <th>is_closed</th>\n",
       "      <th>url</th>\n",
       "      <th>review_count</th>\n",
       "      <th>categories</th>\n",
       "      <th>rating</th>\n",
       "      <th>coordinates</th>\n",
       "      <th>transactions</th>\n",
       "      <th>price</th>\n",
       "      <th>location</th>\n",
       "      <th>phone</th>\n",
       "      <th>display_phone</th>\n",
       "      <th>distance</th>\n",
       "    </tr>\n",
       "  </thead>\n",
       "  <tbody>\n",
       "    <tr>\n",
       "      <th>37</th>\n",
       "      <td>SyOLd4GfFzfPe9Svr_Qu0A</td>\n",
       "      <td>yellow-ginger-asian-kitchen-greenville</td>\n",
       "      <td>Yellow Ginger Asian Kitchen</td>\n",
       "      <td>https://s3-media1.fl.yelpcdn.com/bphoto/A6QAW6...</td>\n",
       "      <td>False</td>\n",
       "      <td>https://www.yelp.com/biz/yellow-ginger-asian-k...</td>\n",
       "      <td>153</td>\n",
       "      <td>[{'alias': 'malaysian', 'title': 'Malaysian'},...</td>\n",
       "      <td>4.5</td>\n",
       "      <td>{'latitude': 34.8951644897461, 'longitude': -8...</td>\n",
       "      <td>[delivery]</td>\n",
       "      <td>$$</td>\n",
       "      <td>{'address1': '2100 Poinsett Hwy', 'address2': ...</td>\n",
       "      <td>+18646057551</td>\n",
       "      <td>(864) 605-7551</td>\n",
       "      <td>7101.530278</td>\n",
       "    </tr>\n",
       "    <tr>\n",
       "      <th>38</th>\n",
       "      <td>ImdCEeDupi4HIIoCIT0BDw</td>\n",
       "      <td>holy-mōlli-mexican-fusion-greenville</td>\n",
       "      <td>Holy Mōlli Mexican Fusion</td>\n",
       "      <td>https://s3-media1.fl.yelpcdn.com/bphoto/IL-DdR...</td>\n",
       "      <td>False</td>\n",
       "      <td>https://www.yelp.com/biz/holy-m%C5%8Dlli-mexic...</td>\n",
       "      <td>5</td>\n",
       "      <td>[{'alias': 'newmexican', 'title': 'New Mexican...</td>\n",
       "      <td>3.0</td>\n",
       "      <td>{'latitude': 34.85025369823839, 'longitude': -...</td>\n",
       "      <td>[]</td>\n",
       "      <td>NaN</td>\n",
       "      <td>{'address1': '11 S Main St Greenville Sc 29601...</td>\n",
       "      <td>+18644128183</td>\n",
       "      <td>(864) 412-8183</td>\n",
       "      <td>3785.441803</td>\n",
       "    </tr>\n",
       "    <tr>\n",
       "      <th>39</th>\n",
       "      <td>Mh9a3Zc78w46m02fCgVY-A</td>\n",
       "      <td>asia-pacific-super-market-greenville-3</td>\n",
       "      <td>Asia Pacific Super Market</td>\n",
       "      <td>https://s3-media1.fl.yelpcdn.com/bphoto/C0McWe...</td>\n",
       "      <td>False</td>\n",
       "      <td>https://www.yelp.com/biz/asia-pacific-super-ma...</td>\n",
       "      <td>143</td>\n",
       "      <td>[{'alias': 'intlgrocery', 'title': 'Internatio...</td>\n",
       "      <td>4.5</td>\n",
       "      <td>{'latitude': 34.85289, 'longitude': -82.35708}</td>\n",
       "      <td>[delivery]</td>\n",
       "      <td>$$</td>\n",
       "      <td>{'address1': '420 N Pleasantburg Dr', 'address...</td>\n",
       "      <td>+18646031377</td>\n",
       "      <td>(864) 603-1377</td>\n",
       "      <td>646.626993</td>\n",
       "    </tr>\n",
       "  </tbody>\n",
       "</table>\n",
       "</div>"
      ],
      "text/plain": [
       "                        id                                   alias  \\\n",
       "37  SyOLd4GfFzfPe9Svr_Qu0A  yellow-ginger-asian-kitchen-greenville   \n",
       "38  ImdCEeDupi4HIIoCIT0BDw    holy-mōlli-mexican-fusion-greenville   \n",
       "39  Mh9a3Zc78w46m02fCgVY-A  asia-pacific-super-market-greenville-3   \n",
       "\n",
       "                           name  \\\n",
       "37  Yellow Ginger Asian Kitchen   \n",
       "38    Holy Mōlli Mexican Fusion   \n",
       "39    Asia Pacific Super Market   \n",
       "\n",
       "                                            image_url  is_closed  \\\n",
       "37  https://s3-media1.fl.yelpcdn.com/bphoto/A6QAW6...      False   \n",
       "38  https://s3-media1.fl.yelpcdn.com/bphoto/IL-DdR...      False   \n",
       "39  https://s3-media1.fl.yelpcdn.com/bphoto/C0McWe...      False   \n",
       "\n",
       "                                                  url  review_count  \\\n",
       "37  https://www.yelp.com/biz/yellow-ginger-asian-k...           153   \n",
       "38  https://www.yelp.com/biz/holy-m%C5%8Dlli-mexic...             5   \n",
       "39  https://www.yelp.com/biz/asia-pacific-super-ma...           143   \n",
       "\n",
       "                                           categories  rating  \\\n",
       "37  [{'alias': 'malaysian', 'title': 'Malaysian'},...     4.5   \n",
       "38  [{'alias': 'newmexican', 'title': 'New Mexican...     3.0   \n",
       "39  [{'alias': 'intlgrocery', 'title': 'Internatio...     4.5   \n",
       "\n",
       "                                          coordinates transactions price  \\\n",
       "37  {'latitude': 34.8951644897461, 'longitude': -8...   [delivery]    $$   \n",
       "38  {'latitude': 34.85025369823839, 'longitude': -...           []   NaN   \n",
       "39     {'latitude': 34.85289, 'longitude': -82.35708}   [delivery]    $$   \n",
       "\n",
       "                                             location         phone  \\\n",
       "37  {'address1': '2100 Poinsett Hwy', 'address2': ...  +18646057551   \n",
       "38  {'address1': '11 S Main St Greenville Sc 29601...  +18644128183   \n",
       "39  {'address1': '420 N Pleasantburg Dr', 'address...  +18646031377   \n",
       "\n",
       "     display_phone     distance  \n",
       "37  (864) 605-7551  7101.530278  \n",
       "38  (864) 412-8183  3785.441803  \n",
       "39  (864) 603-1377   646.626993  "
      ]
     },
     "metadata": {},
     "output_type": "display_data"
    }
   ],
   "source": [
    "#now concatenate all pages\n",
    "all_sushi = pd.concat([sushi0, sushi20],\n",
    "                      ignore_index=True)\n",
    "display(all_sushi.head(3), all_sushi.tail(3))"
   ]
  },
  {
   "cell_type": "markdown",
   "id": "2c7aa00e",
   "metadata": {
    "id": "2c7aa00e"
   },
   "source": [
    "The final dataframe should have 40 entries"
   ]
  },
  {
   "cell_type": "code",
   "execution_count": null,
   "id": "3V-u3cqtUWa9",
   "metadata": {
    "id": "3V-u3cqtUWa9"
   },
   "outputs": [],
   "source": [
    "all_sushi.to_json(orient='records')"
   ]
  }
 ],
 "metadata": {
  "colab": {
   "collapsed_sections": [],
   "name": "SOLUTION Using the Yelp API (Practice).ipynb",
   "provenance": []
  },
  "kernelspec": {
   "display_name": "Python (dojo-env)",
   "language": "python",
   "name": "dojo-env"
  },
  "language_info": {
   "codemirror_mode": {
    "name": "ipython",
    "version": 3
   },
   "file_extension": ".py",
   "mimetype": "text/x-python",
   "name": "python",
   "nbconvert_exporter": "python",
   "pygments_lexer": "ipython3",
   "version": "3.9.15"
  },
  "toc": {
   "base_numbering": 1,
   "nav_menu": {},
   "number_sections": true,
   "sideBar": true,
   "skip_h1_title": false,
   "title_cell": "Table of Contents",
   "title_sidebar": "Contents",
   "toc_cell": false,
   "toc_position": {},
   "toc_section_display": true,
   "toc_window_display": false
  }
 },
 "nbformat": 4,
 "nbformat_minor": 5
}
